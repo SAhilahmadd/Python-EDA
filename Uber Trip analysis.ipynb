{
 "cells": [
  {
   "cell_type": "markdown",
   "id": "b0c43aa2",
   "metadata": {},
   "source": [
    "# Uber Trip Case study"
   ]
  },
  {
   "cell_type": "code",
   "execution_count": 2,
   "id": "a19dc09f",
   "metadata": {},
   "outputs": [],
   "source": [
    "import pandas as pd\n",
    "import numpy as np\n",
    "import matplotlib.pyplot as plt\n",
    "import seaborn as sns"
   ]
  },
  {
   "cell_type": "markdown",
   "id": "f16e83a8",
   "metadata": {},
   "source": [
    "* import library's for understand the data "
   ]
  },
  {
   "cell_type": "code",
   "execution_count": 22,
   "id": "bda0c976",
   "metadata": {},
   "outputs": [],
   "source": [
    "data = pd.read_csv(r\"D:\\project uber naalysisy\\uber-raw-data-sep14.csv (1)\\uber-raw-data-sep14.csv\")"
   ]
  },
  {
   "cell_type": "code",
   "execution_count": 23,
   "id": "cf9cd063",
   "metadata": {},
   "outputs": [
    {
     "data": {
      "text/html": [
       "<div>\n",
       "<style scoped>\n",
       "    .dataframe tbody tr th:only-of-type {\n",
       "        vertical-align: middle;\n",
       "    }\n",
       "\n",
       "    .dataframe tbody tr th {\n",
       "        vertical-align: top;\n",
       "    }\n",
       "\n",
       "    .dataframe thead th {\n",
       "        text-align: right;\n",
       "    }\n",
       "</style>\n",
       "<table border=\"1\" class=\"dataframe\">\n",
       "  <thead>\n",
       "    <tr style=\"text-align: right;\">\n",
       "      <th></th>\n",
       "      <th>Date/Time</th>\n",
       "      <th>Lat</th>\n",
       "      <th>Lon</th>\n",
       "      <th>Base</th>\n",
       "    </tr>\n",
       "  </thead>\n",
       "  <tbody>\n",
       "    <tr>\n",
       "      <th>0</th>\n",
       "      <td>9/1/2014 0:01:00</td>\n",
       "      <td>40.2201</td>\n",
       "      <td>-74.0021</td>\n",
       "      <td>B02512</td>\n",
       "    </tr>\n",
       "    <tr>\n",
       "      <th>1</th>\n",
       "      <td>9/1/2014 0:01:00</td>\n",
       "      <td>40.7500</td>\n",
       "      <td>-74.0027</td>\n",
       "      <td>B02512</td>\n",
       "    </tr>\n",
       "    <tr>\n",
       "      <th>2</th>\n",
       "      <td>9/1/2014 0:03:00</td>\n",
       "      <td>40.7559</td>\n",
       "      <td>-73.9864</td>\n",
       "      <td>B02512</td>\n",
       "    </tr>\n",
       "    <tr>\n",
       "      <th>3</th>\n",
       "      <td>9/1/2014 0:06:00</td>\n",
       "      <td>40.7450</td>\n",
       "      <td>-73.9889</td>\n",
       "      <td>B02512</td>\n",
       "    </tr>\n",
       "    <tr>\n",
       "      <th>4</th>\n",
       "      <td>9/1/2014 0:11:00</td>\n",
       "      <td>40.8145</td>\n",
       "      <td>-73.9444</td>\n",
       "      <td>B02512</td>\n",
       "    </tr>\n",
       "    <tr>\n",
       "      <th>...</th>\n",
       "      <td>...</td>\n",
       "      <td>...</td>\n",
       "      <td>...</td>\n",
       "      <td>...</td>\n",
       "    </tr>\n",
       "    <tr>\n",
       "      <th>1028131</th>\n",
       "      <td>9/30/2014 22:57:00</td>\n",
       "      <td>40.7668</td>\n",
       "      <td>-73.9845</td>\n",
       "      <td>B02764</td>\n",
       "    </tr>\n",
       "    <tr>\n",
       "      <th>1028132</th>\n",
       "      <td>9/30/2014 22:57:00</td>\n",
       "      <td>40.6911</td>\n",
       "      <td>-74.1773</td>\n",
       "      <td>B02764</td>\n",
       "    </tr>\n",
       "    <tr>\n",
       "      <th>1028133</th>\n",
       "      <td>9/30/2014 22:58:00</td>\n",
       "      <td>40.8519</td>\n",
       "      <td>-73.9319</td>\n",
       "      <td>B02764</td>\n",
       "    </tr>\n",
       "    <tr>\n",
       "      <th>1028134</th>\n",
       "      <td>9/30/2014 22:58:00</td>\n",
       "      <td>40.7081</td>\n",
       "      <td>-74.0066</td>\n",
       "      <td>B02764</td>\n",
       "    </tr>\n",
       "    <tr>\n",
       "      <th>1028135</th>\n",
       "      <td>9/30/2014 22:58:00</td>\n",
       "      <td>40.7140</td>\n",
       "      <td>-73.9496</td>\n",
       "      <td>B02764</td>\n",
       "    </tr>\n",
       "  </tbody>\n",
       "</table>\n",
       "<p>1028136 rows × 4 columns</p>\n",
       "</div>"
      ],
      "text/plain": [
       "                  Date/Time      Lat      Lon    Base\n",
       "0          9/1/2014 0:01:00  40.2201 -74.0021  B02512\n",
       "1          9/1/2014 0:01:00  40.7500 -74.0027  B02512\n",
       "2          9/1/2014 0:03:00  40.7559 -73.9864  B02512\n",
       "3          9/1/2014 0:06:00  40.7450 -73.9889  B02512\n",
       "4          9/1/2014 0:11:00  40.8145 -73.9444  B02512\n",
       "...                     ...      ...      ...     ...\n",
       "1028131  9/30/2014 22:57:00  40.7668 -73.9845  B02764\n",
       "1028132  9/30/2014 22:57:00  40.6911 -74.1773  B02764\n",
       "1028133  9/30/2014 22:58:00  40.8519 -73.9319  B02764\n",
       "1028134  9/30/2014 22:58:00  40.7081 -74.0066  B02764\n",
       "1028135  9/30/2014 22:58:00  40.7140 -73.9496  B02764\n",
       "\n",
       "[1028136 rows x 4 columns]"
      ]
     },
     "execution_count": 23,
     "metadata": {},
     "output_type": "execute_result"
    }
   ],
   "source": [
    "data"
   ]
  },
  {
   "cell_type": "code",
   "execution_count": 24,
   "id": "9dec9651",
   "metadata": {},
   "outputs": [],
   "source": [
    "from sklearn.model_selection import train_test_split\n",
    "data,_=train_test_split(data,test_size=.96,random_state=0)"
   ]
  },
  {
   "cell_type": "markdown",
   "id": "76a4ae5b",
   "metadata": {},
   "source": [
    "* There are 1million rows and 4 columns so \n",
    "* Here we will work on sample data instead of working on complete data."
   ]
  },
  {
   "cell_type": "code",
   "execution_count": 25,
   "id": "ecc47b2f",
   "metadata": {},
   "outputs": [
    {
     "data": {
      "text/plain": [
       "(41125, 4)"
      ]
     },
     "execution_count": 25,
     "metadata": {},
     "output_type": "execute_result"
    }
   ],
   "source": [
    "data.shape"
   ]
  },
  {
   "cell_type": "markdown",
   "id": "10f1cc5e",
   "metadata": {},
   "source": [
    "* Our sample data has 41125 rows"
   ]
  },
  {
   "cell_type": "code",
   "execution_count": 26,
   "id": "c76497b6",
   "metadata": {},
   "outputs": [
    {
     "data": {
      "text/html": [
       "<div>\n",
       "<style scoped>\n",
       "    .dataframe tbody tr th:only-of-type {\n",
       "        vertical-align: middle;\n",
       "    }\n",
       "\n",
       "    .dataframe tbody tr th {\n",
       "        vertical-align: top;\n",
       "    }\n",
       "\n",
       "    .dataframe thead th {\n",
       "        text-align: right;\n",
       "    }\n",
       "</style>\n",
       "<table border=\"1\" class=\"dataframe\">\n",
       "  <thead>\n",
       "    <tr style=\"text-align: right;\">\n",
       "      <th></th>\n",
       "      <th>Date/Time</th>\n",
       "      <th>Lat</th>\n",
       "      <th>Lon</th>\n",
       "      <th>Base</th>\n",
       "    </tr>\n",
       "  </thead>\n",
       "  <tbody>\n",
       "    <tr>\n",
       "      <th>381233</th>\n",
       "      <td>2014-09-09 09:44:00</td>\n",
       "      <td>40.7722</td>\n",
       "      <td>-73.9827</td>\n",
       "      <td>B02617</td>\n",
       "    </tr>\n",
       "    <tr>\n",
       "      <th>141225</th>\n",
       "      <td>2014-09-13 19:34:00</td>\n",
       "      <td>40.7297</td>\n",
       "      <td>-73.9864</td>\n",
       "      <td>B02598</td>\n",
       "    </tr>\n",
       "    <tr>\n",
       "      <th>774222</th>\n",
       "      <td>2014-09-18 22:43:00</td>\n",
       "      <td>40.7482</td>\n",
       "      <td>-73.9848</td>\n",
       "      <td>B02682</td>\n",
       "    </tr>\n",
       "    <tr>\n",
       "      <th>963084</th>\n",
       "      <td>2014-09-22 02:45:00</td>\n",
       "      <td>40.6551</td>\n",
       "      <td>-73.7246</td>\n",
       "      <td>B02764</td>\n",
       "    </tr>\n",
       "    <tr>\n",
       "      <th>159797</th>\n",
       "      <td>2014-09-16 09:53:00</td>\n",
       "      <td>40.7579</td>\n",
       "      <td>-73.9835</td>\n",
       "      <td>B02598</td>\n",
       "    </tr>\n",
       "  </tbody>\n",
       "</table>\n",
       "</div>"
      ],
      "text/plain": [
       "                 Date/Time      Lat      Lon    Base\n",
       "381233 2014-09-09 09:44:00  40.7722 -73.9827  B02617\n",
       "141225 2014-09-13 19:34:00  40.7297 -73.9864  B02598\n",
       "774222 2014-09-18 22:43:00  40.7482 -73.9848  B02682\n",
       "963084 2014-09-22 02:45:00  40.6551 -73.7246  B02764\n",
       "159797 2014-09-16 09:53:00  40.7579 -73.9835  B02598"
      ]
     },
     "execution_count": 26,
     "metadata": {},
     "output_type": "execute_result"
    }
   ],
   "source": [
    "data[\"Date/Time\"] = data[\"Date/Time\"].map(pd.to_datetime) \n",
    "data.head()"
   ]
  },
  {
   "cell_type": "markdown",
   "id": "4e1c8e2a",
   "metadata": {},
   "source": [
    "* We updated the date and time column here\n",
    "* And all the date and time were brought in the correct format with the help of the map"
   ]
  },
  {
   "cell_type": "code",
   "execution_count": 51,
   "id": "bad516b8",
   "metadata": {},
   "outputs": [],
   "source": [
    "data['month']=data['Date/Time'].dt.month\n",
    "data[\"day\"]= data[\"Date/Time\"].dt.day\n",
    "data['year']=data['Date/Time'].dt.year\n",
    "data['week_of_day']=data['Date/Time'].dt.dayofweek"
   ]
  },
  {
   "cell_type": "markdown",
   "id": "f600730c",
   "metadata": {},
   "source": [
    "* With the help of date and time, we got this month, day, year, week of days"
   ]
  },
  {
   "cell_type": "code",
   "execution_count": null,
   "id": "31b2574e",
   "metadata": {},
   "outputs": [],
   "source": [
    "data['isweekend']=np.where(data['week_of_day'].isin([5,6]),1,0)"
   ]
  },
  {
   "cell_type": "markdown",
   "id": "7809b4b1",
   "metadata": {},
   "source": [
    "* With the help of date and time, we also got the weekends, with the help of and isin, in week days, if it is a weekend, then it is marked as 1 and if not, then it is marked as 0."
   ]
  },
  {
   "cell_type": "code",
   "execution_count": 53,
   "id": "dbfed308",
   "metadata": {},
   "outputs": [],
   "source": [
    "def day_cut(x):\n",
    "    if x<=10:\n",
    "        return \"stating_of_month\"\n",
    "    elif x>10 and x<=20:\n",
    "        return  \"mid_of_month\"\n",
    "    else:\n",
    "        return \"end_of_month\"\n"
   ]
  },
  {
   "cell_type": "code",
   "execution_count": 54,
   "id": "7b3aef8d",
   "metadata": {},
   "outputs": [],
   "source": [
    "data[\"day_cat\"]=data[\"day\"].apply( lambda a : day_cut(a))"
   ]
  },
  {
   "cell_type": "markdown",
   "id": "48154ee9",
   "metadata": {},
   "source": [
    "* Here we have created a function where the first 10 days of the month are written as start of month and\n",
    "middle 10 days mid of month and last 10 days end of month.\n",
    "* And after creating a new column, we applied it there."
   ]
  },
  {
   "cell_type": "code",
   "execution_count": 55,
   "id": "97c993aa",
   "metadata": {},
   "outputs": [
    {
     "data": {
      "text/html": [
       "<div>\n",
       "<style scoped>\n",
       "    .dataframe tbody tr th:only-of-type {\n",
       "        vertical-align: middle;\n",
       "    }\n",
       "\n",
       "    .dataframe tbody tr th {\n",
       "        vertical-align: top;\n",
       "    }\n",
       "\n",
       "    .dataframe thead th {\n",
       "        text-align: right;\n",
       "    }\n",
       "</style>\n",
       "<table border=\"1\" class=\"dataframe\">\n",
       "  <thead>\n",
       "    <tr style=\"text-align: right;\">\n",
       "      <th></th>\n",
       "      <th>Date/Time</th>\n",
       "      <th>Lat</th>\n",
       "      <th>Lon</th>\n",
       "      <th>Base</th>\n",
       "      <th>month</th>\n",
       "      <th>day</th>\n",
       "      <th>year</th>\n",
       "      <th>week_of_day</th>\n",
       "      <th>isweekend</th>\n",
       "      <th>day_cat</th>\n",
       "    </tr>\n",
       "  </thead>\n",
       "  <tbody>\n",
       "    <tr>\n",
       "      <th>381233</th>\n",
       "      <td>2014-09-09 09:44:00</td>\n",
       "      <td>40.7722</td>\n",
       "      <td>-73.9827</td>\n",
       "      <td>B02617</td>\n",
       "      <td>9</td>\n",
       "      <td>9</td>\n",
       "      <td>2014</td>\n",
       "      <td>1</td>\n",
       "      <td>0</td>\n",
       "      <td>stating_of_month</td>\n",
       "    </tr>\n",
       "    <tr>\n",
       "      <th>141225</th>\n",
       "      <td>2014-09-13 19:34:00</td>\n",
       "      <td>40.7297</td>\n",
       "      <td>-73.9864</td>\n",
       "      <td>B02598</td>\n",
       "      <td>9</td>\n",
       "      <td>13</td>\n",
       "      <td>2014</td>\n",
       "      <td>5</td>\n",
       "      <td>1</td>\n",
       "      <td>mid_of_month</td>\n",
       "    </tr>\n",
       "    <tr>\n",
       "      <th>774222</th>\n",
       "      <td>2014-09-18 22:43:00</td>\n",
       "      <td>40.7482</td>\n",
       "      <td>-73.9848</td>\n",
       "      <td>B02682</td>\n",
       "      <td>9</td>\n",
       "      <td>18</td>\n",
       "      <td>2014</td>\n",
       "      <td>3</td>\n",
       "      <td>0</td>\n",
       "      <td>mid_of_month</td>\n",
       "    </tr>\n",
       "    <tr>\n",
       "      <th>963084</th>\n",
       "      <td>2014-09-22 02:45:00</td>\n",
       "      <td>40.6551</td>\n",
       "      <td>-73.7246</td>\n",
       "      <td>B02764</td>\n",
       "      <td>9</td>\n",
       "      <td>22</td>\n",
       "      <td>2014</td>\n",
       "      <td>0</td>\n",
       "      <td>0</td>\n",
       "      <td>end_of_month</td>\n",
       "    </tr>\n",
       "    <tr>\n",
       "      <th>159797</th>\n",
       "      <td>2014-09-16 09:53:00</td>\n",
       "      <td>40.7579</td>\n",
       "      <td>-73.9835</td>\n",
       "      <td>B02598</td>\n",
       "      <td>9</td>\n",
       "      <td>16</td>\n",
       "      <td>2014</td>\n",
       "      <td>1</td>\n",
       "      <td>0</td>\n",
       "      <td>mid_of_month</td>\n",
       "    </tr>\n",
       "    <tr>\n",
       "      <th>...</th>\n",
       "      <td>...</td>\n",
       "      <td>...</td>\n",
       "      <td>...</td>\n",
       "      <td>...</td>\n",
       "      <td>...</td>\n",
       "      <td>...</td>\n",
       "      <td>...</td>\n",
       "      <td>...</td>\n",
       "      <td>...</td>\n",
       "      <td>...</td>\n",
       "    </tr>\n",
       "    <tr>\n",
       "      <th>963395</th>\n",
       "      <td>2014-09-22 06:06:00</td>\n",
       "      <td>40.6485</td>\n",
       "      <td>-73.7829</td>\n",
       "      <td>B02764</td>\n",
       "      <td>9</td>\n",
       "      <td>22</td>\n",
       "      <td>2014</td>\n",
       "      <td>0</td>\n",
       "      <td>0</td>\n",
       "      <td>end_of_month</td>\n",
       "    </tr>\n",
       "    <tr>\n",
       "      <th>117952</th>\n",
       "      <td>2014-09-11 13:12:00</td>\n",
       "      <td>40.7638</td>\n",
       "      <td>-73.9713</td>\n",
       "      <td>B02598</td>\n",
       "      <td>9</td>\n",
       "      <td>11</td>\n",
       "      <td>2014</td>\n",
       "      <td>3</td>\n",
       "      <td>0</td>\n",
       "      <td>mid_of_month</td>\n",
       "    </tr>\n",
       "    <tr>\n",
       "      <th>435829</th>\n",
       "      <td>2014-09-13 08:58:00</td>\n",
       "      <td>40.7292</td>\n",
       "      <td>-74.0026</td>\n",
       "      <td>B02617</td>\n",
       "      <td>9</td>\n",
       "      <td>13</td>\n",
       "      <td>2014</td>\n",
       "      <td>5</td>\n",
       "      <td>1</td>\n",
       "      <td>mid_of_month</td>\n",
       "    </tr>\n",
       "    <tr>\n",
       "      <th>305711</th>\n",
       "      <td>2014-09-03 21:04:00</td>\n",
       "      <td>40.7196</td>\n",
       "      <td>-73.9980</td>\n",
       "      <td>B02617</td>\n",
       "      <td>9</td>\n",
       "      <td>3</td>\n",
       "      <td>2014</td>\n",
       "      <td>2</td>\n",
       "      <td>0</td>\n",
       "      <td>stating_of_month</td>\n",
       "    </tr>\n",
       "    <tr>\n",
       "      <th>985772</th>\n",
       "      <td>2014-09-25 17:03:00</td>\n",
       "      <td>40.7302</td>\n",
       "      <td>-74.0031</td>\n",
       "      <td>B02764</td>\n",
       "      <td>9</td>\n",
       "      <td>25</td>\n",
       "      <td>2014</td>\n",
       "      <td>3</td>\n",
       "      <td>0</td>\n",
       "      <td>end_of_month</td>\n",
       "    </tr>\n",
       "  </tbody>\n",
       "</table>\n",
       "<p>41125 rows × 10 columns</p>\n",
       "</div>"
      ],
      "text/plain": [
       "                 Date/Time      Lat      Lon    Base  month  day  year  \\\n",
       "381233 2014-09-09 09:44:00  40.7722 -73.9827  B02617      9    9  2014   \n",
       "141225 2014-09-13 19:34:00  40.7297 -73.9864  B02598      9   13  2014   \n",
       "774222 2014-09-18 22:43:00  40.7482 -73.9848  B02682      9   18  2014   \n",
       "963084 2014-09-22 02:45:00  40.6551 -73.7246  B02764      9   22  2014   \n",
       "159797 2014-09-16 09:53:00  40.7579 -73.9835  B02598      9   16  2014   \n",
       "...                    ...      ...      ...     ...    ...  ...   ...   \n",
       "963395 2014-09-22 06:06:00  40.6485 -73.7829  B02764      9   22  2014   \n",
       "117952 2014-09-11 13:12:00  40.7638 -73.9713  B02598      9   11  2014   \n",
       "435829 2014-09-13 08:58:00  40.7292 -74.0026  B02617      9   13  2014   \n",
       "305711 2014-09-03 21:04:00  40.7196 -73.9980  B02617      9    3  2014   \n",
       "985772 2014-09-25 17:03:00  40.7302 -74.0031  B02764      9   25  2014   \n",
       "\n",
       "        week_of_day  isweekend           day_cat  \n",
       "381233            1          0  stating_of_month  \n",
       "141225            5          1      mid_of_month  \n",
       "774222            3          0      mid_of_month  \n",
       "963084            0          0      end_of_month  \n",
       "159797            1          0      mid_of_month  \n",
       "...             ...        ...               ...  \n",
       "963395            0          0      end_of_month  \n",
       "117952            3          0      mid_of_month  \n",
       "435829            5          1      mid_of_month  \n",
       "305711            2          0  stating_of_month  \n",
       "985772            3          0      end_of_month  \n",
       "\n",
       "[41125 rows x 10 columns]"
      ]
     },
     "execution_count": 55,
     "metadata": {},
     "output_type": "execute_result"
    }
   ],
   "source": [
    "data"
   ]
  },
  {
   "cell_type": "code",
   "execution_count": 57,
   "id": "71bd52d6",
   "metadata": {},
   "outputs": [
    {
     "data": {
      "text/plain": [
       "mid_of_month        14755\n",
       "stating_of_month    13467\n",
       "end_of_month        12903\n",
       "Name: day_cat, dtype: int64"
      ]
     },
     "execution_count": 57,
     "metadata": {},
     "output_type": "execute_result"
    }
   ],
   "source": [
    "data[\"day_cat\"].value_counts()"
   ]
  },
  {
   "cell_type": "code",
   "execution_count": 59,
   "id": "d3ccba0d",
   "metadata": {},
   "outputs": [],
   "source": [
    "data['hour']=data['Date/Time'].dt.hour\n"
   ]
  },
  {
   "cell_type": "markdown",
   "id": "a029eec4",
   "metadata": {},
   "source": [
    "* here we create Hour column with the help of date/time`"
   ]
  },
  {
   "cell_type": "code",
   "execution_count": 61,
   "id": "a71ed3dd",
   "metadata": {},
   "outputs": [
    {
     "data": {
      "text/html": [
       "<div>\n",
       "<style scoped>\n",
       "    .dataframe tbody tr th:only-of-type {\n",
       "        vertical-align: middle;\n",
       "    }\n",
       "\n",
       "    .dataframe tbody tr th {\n",
       "        vertical-align: top;\n",
       "    }\n",
       "\n",
       "    .dataframe thead th {\n",
       "        text-align: right;\n",
       "    }\n",
       "</style>\n",
       "<table border=\"1\" class=\"dataframe\">\n",
       "  <thead>\n",
       "    <tr style=\"text-align: right;\">\n",
       "      <th></th>\n",
       "      <th>Date/Time</th>\n",
       "      <th>Lat</th>\n",
       "      <th>Lon</th>\n",
       "      <th>Base</th>\n",
       "      <th>month</th>\n",
       "      <th>day</th>\n",
       "      <th>year</th>\n",
       "      <th>week_of_day</th>\n",
       "      <th>isweekend</th>\n",
       "      <th>day_cat</th>\n",
       "      <th>hour</th>\n",
       "    </tr>\n",
       "  </thead>\n",
       "  <tbody>\n",
       "    <tr>\n",
       "      <th>381233</th>\n",
       "      <td>2014-09-09 09:44:00</td>\n",
       "      <td>40.7722</td>\n",
       "      <td>-73.9827</td>\n",
       "      <td>B02617</td>\n",
       "      <td>9</td>\n",
       "      <td>9</td>\n",
       "      <td>2014</td>\n",
       "      <td>1</td>\n",
       "      <td>0</td>\n",
       "      <td>stating_of_month</td>\n",
       "      <td>9</td>\n",
       "    </tr>\n",
       "    <tr>\n",
       "      <th>141225</th>\n",
       "      <td>2014-09-13 19:34:00</td>\n",
       "      <td>40.7297</td>\n",
       "      <td>-73.9864</td>\n",
       "      <td>B02598</td>\n",
       "      <td>9</td>\n",
       "      <td>13</td>\n",
       "      <td>2014</td>\n",
       "      <td>5</td>\n",
       "      <td>1</td>\n",
       "      <td>mid_of_month</td>\n",
       "      <td>19</td>\n",
       "    </tr>\n",
       "    <tr>\n",
       "      <th>774222</th>\n",
       "      <td>2014-09-18 22:43:00</td>\n",
       "      <td>40.7482</td>\n",
       "      <td>-73.9848</td>\n",
       "      <td>B02682</td>\n",
       "      <td>9</td>\n",
       "      <td>18</td>\n",
       "      <td>2014</td>\n",
       "      <td>3</td>\n",
       "      <td>0</td>\n",
       "      <td>mid_of_month</td>\n",
       "      <td>22</td>\n",
       "    </tr>\n",
       "    <tr>\n",
       "      <th>963084</th>\n",
       "      <td>2014-09-22 02:45:00</td>\n",
       "      <td>40.6551</td>\n",
       "      <td>-73.7246</td>\n",
       "      <td>B02764</td>\n",
       "      <td>9</td>\n",
       "      <td>22</td>\n",
       "      <td>2014</td>\n",
       "      <td>0</td>\n",
       "      <td>0</td>\n",
       "      <td>end_of_month</td>\n",
       "      <td>2</td>\n",
       "    </tr>\n",
       "    <tr>\n",
       "      <th>159797</th>\n",
       "      <td>2014-09-16 09:53:00</td>\n",
       "      <td>40.7579</td>\n",
       "      <td>-73.9835</td>\n",
       "      <td>B02598</td>\n",
       "      <td>9</td>\n",
       "      <td>16</td>\n",
       "      <td>2014</td>\n",
       "      <td>1</td>\n",
       "      <td>0</td>\n",
       "      <td>mid_of_month</td>\n",
       "      <td>9</td>\n",
       "    </tr>\n",
       "    <tr>\n",
       "      <th>...</th>\n",
       "      <td>...</td>\n",
       "      <td>...</td>\n",
       "      <td>...</td>\n",
       "      <td>...</td>\n",
       "      <td>...</td>\n",
       "      <td>...</td>\n",
       "      <td>...</td>\n",
       "      <td>...</td>\n",
       "      <td>...</td>\n",
       "      <td>...</td>\n",
       "      <td>...</td>\n",
       "    </tr>\n",
       "    <tr>\n",
       "      <th>963395</th>\n",
       "      <td>2014-09-22 06:06:00</td>\n",
       "      <td>40.6485</td>\n",
       "      <td>-73.7829</td>\n",
       "      <td>B02764</td>\n",
       "      <td>9</td>\n",
       "      <td>22</td>\n",
       "      <td>2014</td>\n",
       "      <td>0</td>\n",
       "      <td>0</td>\n",
       "      <td>end_of_month</td>\n",
       "      <td>6</td>\n",
       "    </tr>\n",
       "    <tr>\n",
       "      <th>117952</th>\n",
       "      <td>2014-09-11 13:12:00</td>\n",
       "      <td>40.7638</td>\n",
       "      <td>-73.9713</td>\n",
       "      <td>B02598</td>\n",
       "      <td>9</td>\n",
       "      <td>11</td>\n",
       "      <td>2014</td>\n",
       "      <td>3</td>\n",
       "      <td>0</td>\n",
       "      <td>mid_of_month</td>\n",
       "      <td>13</td>\n",
       "    </tr>\n",
       "    <tr>\n",
       "      <th>435829</th>\n",
       "      <td>2014-09-13 08:58:00</td>\n",
       "      <td>40.7292</td>\n",
       "      <td>-74.0026</td>\n",
       "      <td>B02617</td>\n",
       "      <td>9</td>\n",
       "      <td>13</td>\n",
       "      <td>2014</td>\n",
       "      <td>5</td>\n",
       "      <td>1</td>\n",
       "      <td>mid_of_month</td>\n",
       "      <td>8</td>\n",
       "    </tr>\n",
       "    <tr>\n",
       "      <th>305711</th>\n",
       "      <td>2014-09-03 21:04:00</td>\n",
       "      <td>40.7196</td>\n",
       "      <td>-73.9980</td>\n",
       "      <td>B02617</td>\n",
       "      <td>9</td>\n",
       "      <td>3</td>\n",
       "      <td>2014</td>\n",
       "      <td>2</td>\n",
       "      <td>0</td>\n",
       "      <td>stating_of_month</td>\n",
       "      <td>21</td>\n",
       "    </tr>\n",
       "    <tr>\n",
       "      <th>985772</th>\n",
       "      <td>2014-09-25 17:03:00</td>\n",
       "      <td>40.7302</td>\n",
       "      <td>-74.0031</td>\n",
       "      <td>B02764</td>\n",
       "      <td>9</td>\n",
       "      <td>25</td>\n",
       "      <td>2014</td>\n",
       "      <td>3</td>\n",
       "      <td>0</td>\n",
       "      <td>end_of_month</td>\n",
       "      <td>17</td>\n",
       "    </tr>\n",
       "  </tbody>\n",
       "</table>\n",
       "<p>41125 rows × 11 columns</p>\n",
       "</div>"
      ],
      "text/plain": [
       "                 Date/Time      Lat      Lon    Base  month  day  year  \\\n",
       "381233 2014-09-09 09:44:00  40.7722 -73.9827  B02617      9    9  2014   \n",
       "141225 2014-09-13 19:34:00  40.7297 -73.9864  B02598      9   13  2014   \n",
       "774222 2014-09-18 22:43:00  40.7482 -73.9848  B02682      9   18  2014   \n",
       "963084 2014-09-22 02:45:00  40.6551 -73.7246  B02764      9   22  2014   \n",
       "159797 2014-09-16 09:53:00  40.7579 -73.9835  B02598      9   16  2014   \n",
       "...                    ...      ...      ...     ...    ...  ...   ...   \n",
       "963395 2014-09-22 06:06:00  40.6485 -73.7829  B02764      9   22  2014   \n",
       "117952 2014-09-11 13:12:00  40.7638 -73.9713  B02598      9   11  2014   \n",
       "435829 2014-09-13 08:58:00  40.7292 -74.0026  B02617      9   13  2014   \n",
       "305711 2014-09-03 21:04:00  40.7196 -73.9980  B02617      9    3  2014   \n",
       "985772 2014-09-25 17:03:00  40.7302 -74.0031  B02764      9   25  2014   \n",
       "\n",
       "        week_of_day  isweekend           day_cat  hour  \n",
       "381233            1          0  stating_of_month     9  \n",
       "141225            5          1      mid_of_month    19  \n",
       "774222            3          0      mid_of_month    22  \n",
       "963084            0          0      end_of_month     2  \n",
       "159797            1          0      mid_of_month     9  \n",
       "...             ...        ...               ...   ...  \n",
       "963395            0          0      end_of_month     6  \n",
       "117952            3          0      mid_of_month    13  \n",
       "435829            5          1      mid_of_month     8  \n",
       "305711            2          0  stating_of_month    21  \n",
       "985772            3          0      end_of_month    17  \n",
       "\n",
       "[41125 rows x 11 columns]"
      ]
     },
     "execution_count": 61,
     "metadata": {},
     "output_type": "execute_result"
    }
   ],
   "source": [
    "data"
   ]
  },
  {
   "cell_type": "code",
   "execution_count": 62,
   "id": "12f946e2",
   "metadata": {},
   "outputs": [],
   "source": [
    "def hour_category(x): \n",
    "    if x >=4 and x<8 :\n",
    "        return \"early morning\"\n",
    "    elif x>=8 and x<=12:\n",
    "        return \"morning\"\n",
    "    elif x>=12 and x<=16:\n",
    "        return \"afternoon\"\n",
    "    elif x>=16 and x<=20:\n",
    "        return \"evening\"\n",
    "    elif x>=20 and x<=24:\n",
    "        return \"night\"\n",
    "    elif x>=0 and x<=4:\n",
    "        return \"mid_night\"\n",
    "    else:\n",
    "        return \"unknown\"\n"
   ]
  },
  {
   "cell_type": "code",
   "execution_count": 63,
   "id": "42ae2825",
   "metadata": {},
   "outputs": [],
   "source": [
    "data[\"hours_cat\"]=data[\"hour\"].apply(lambda a : hour_category(a))"
   ]
  },
  {
   "cell_type": "code",
   "execution_count": null,
   "id": "94b487bf",
   "metadata": {},
   "outputs": [],
   "source": []
  },
  {
   "cell_type": "markdown",
   "id": "8c4292ee",
   "metadata": {},
   "source": [
    "* We made a function where we made hour(a full day 24 hr time) wise like early morning, evening, night and unknown\n",
    "* we created new columns and applied it there"
   ]
  },
  {
   "cell_type": "code",
   "execution_count": 64,
   "id": "9b0c5e37",
   "metadata": {},
   "outputs": [
    {
     "data": {
      "text/html": [
       "<div>\n",
       "<style scoped>\n",
       "    .dataframe tbody tr th:only-of-type {\n",
       "        vertical-align: middle;\n",
       "    }\n",
       "\n",
       "    .dataframe tbody tr th {\n",
       "        vertical-align: top;\n",
       "    }\n",
       "\n",
       "    .dataframe thead th {\n",
       "        text-align: right;\n",
       "    }\n",
       "</style>\n",
       "<table border=\"1\" class=\"dataframe\">\n",
       "  <thead>\n",
       "    <tr style=\"text-align: right;\">\n",
       "      <th></th>\n",
       "      <th>Date/Time</th>\n",
       "      <th>Lat</th>\n",
       "      <th>Lon</th>\n",
       "      <th>Base</th>\n",
       "      <th>month</th>\n",
       "      <th>day</th>\n",
       "      <th>year</th>\n",
       "      <th>week_of_day</th>\n",
       "      <th>isweekend</th>\n",
       "      <th>day_cat</th>\n",
       "      <th>hour</th>\n",
       "      <th>hours_cat</th>\n",
       "    </tr>\n",
       "  </thead>\n",
       "  <tbody>\n",
       "    <tr>\n",
       "      <th>381233</th>\n",
       "      <td>2014-09-09 09:44:00</td>\n",
       "      <td>40.7722</td>\n",
       "      <td>-73.9827</td>\n",
       "      <td>B02617</td>\n",
       "      <td>9</td>\n",
       "      <td>9</td>\n",
       "      <td>2014</td>\n",
       "      <td>1</td>\n",
       "      <td>0</td>\n",
       "      <td>stating_of_month</td>\n",
       "      <td>9</td>\n",
       "      <td>morning</td>\n",
       "    </tr>\n",
       "    <tr>\n",
       "      <th>141225</th>\n",
       "      <td>2014-09-13 19:34:00</td>\n",
       "      <td>40.7297</td>\n",
       "      <td>-73.9864</td>\n",
       "      <td>B02598</td>\n",
       "      <td>9</td>\n",
       "      <td>13</td>\n",
       "      <td>2014</td>\n",
       "      <td>5</td>\n",
       "      <td>1</td>\n",
       "      <td>mid_of_month</td>\n",
       "      <td>19</td>\n",
       "      <td>evening</td>\n",
       "    </tr>\n",
       "    <tr>\n",
       "      <th>774222</th>\n",
       "      <td>2014-09-18 22:43:00</td>\n",
       "      <td>40.7482</td>\n",
       "      <td>-73.9848</td>\n",
       "      <td>B02682</td>\n",
       "      <td>9</td>\n",
       "      <td>18</td>\n",
       "      <td>2014</td>\n",
       "      <td>3</td>\n",
       "      <td>0</td>\n",
       "      <td>mid_of_month</td>\n",
       "      <td>22</td>\n",
       "      <td>night</td>\n",
       "    </tr>\n",
       "    <tr>\n",
       "      <th>963084</th>\n",
       "      <td>2014-09-22 02:45:00</td>\n",
       "      <td>40.6551</td>\n",
       "      <td>-73.7246</td>\n",
       "      <td>B02764</td>\n",
       "      <td>9</td>\n",
       "      <td>22</td>\n",
       "      <td>2014</td>\n",
       "      <td>0</td>\n",
       "      <td>0</td>\n",
       "      <td>end_of_month</td>\n",
       "      <td>2</td>\n",
       "      <td>mid_night</td>\n",
       "    </tr>\n",
       "    <tr>\n",
       "      <th>159797</th>\n",
       "      <td>2014-09-16 09:53:00</td>\n",
       "      <td>40.7579</td>\n",
       "      <td>-73.9835</td>\n",
       "      <td>B02598</td>\n",
       "      <td>9</td>\n",
       "      <td>16</td>\n",
       "      <td>2014</td>\n",
       "      <td>1</td>\n",
       "      <td>0</td>\n",
       "      <td>mid_of_month</td>\n",
       "      <td>9</td>\n",
       "      <td>morning</td>\n",
       "    </tr>\n",
       "    <tr>\n",
       "      <th>...</th>\n",
       "      <td>...</td>\n",
       "      <td>...</td>\n",
       "      <td>...</td>\n",
       "      <td>...</td>\n",
       "      <td>...</td>\n",
       "      <td>...</td>\n",
       "      <td>...</td>\n",
       "      <td>...</td>\n",
       "      <td>...</td>\n",
       "      <td>...</td>\n",
       "      <td>...</td>\n",
       "      <td>...</td>\n",
       "    </tr>\n",
       "    <tr>\n",
       "      <th>963395</th>\n",
       "      <td>2014-09-22 06:06:00</td>\n",
       "      <td>40.6485</td>\n",
       "      <td>-73.7829</td>\n",
       "      <td>B02764</td>\n",
       "      <td>9</td>\n",
       "      <td>22</td>\n",
       "      <td>2014</td>\n",
       "      <td>0</td>\n",
       "      <td>0</td>\n",
       "      <td>end_of_month</td>\n",
       "      <td>6</td>\n",
       "      <td>early morning</td>\n",
       "    </tr>\n",
       "    <tr>\n",
       "      <th>117952</th>\n",
       "      <td>2014-09-11 13:12:00</td>\n",
       "      <td>40.7638</td>\n",
       "      <td>-73.9713</td>\n",
       "      <td>B02598</td>\n",
       "      <td>9</td>\n",
       "      <td>11</td>\n",
       "      <td>2014</td>\n",
       "      <td>3</td>\n",
       "      <td>0</td>\n",
       "      <td>mid_of_month</td>\n",
       "      <td>13</td>\n",
       "      <td>afternoon</td>\n",
       "    </tr>\n",
       "    <tr>\n",
       "      <th>435829</th>\n",
       "      <td>2014-09-13 08:58:00</td>\n",
       "      <td>40.7292</td>\n",
       "      <td>-74.0026</td>\n",
       "      <td>B02617</td>\n",
       "      <td>9</td>\n",
       "      <td>13</td>\n",
       "      <td>2014</td>\n",
       "      <td>5</td>\n",
       "      <td>1</td>\n",
       "      <td>mid_of_month</td>\n",
       "      <td>8</td>\n",
       "      <td>morning</td>\n",
       "    </tr>\n",
       "    <tr>\n",
       "      <th>305711</th>\n",
       "      <td>2014-09-03 21:04:00</td>\n",
       "      <td>40.7196</td>\n",
       "      <td>-73.9980</td>\n",
       "      <td>B02617</td>\n",
       "      <td>9</td>\n",
       "      <td>3</td>\n",
       "      <td>2014</td>\n",
       "      <td>2</td>\n",
       "      <td>0</td>\n",
       "      <td>stating_of_month</td>\n",
       "      <td>21</td>\n",
       "      <td>night</td>\n",
       "    </tr>\n",
       "    <tr>\n",
       "      <th>985772</th>\n",
       "      <td>2014-09-25 17:03:00</td>\n",
       "      <td>40.7302</td>\n",
       "      <td>-74.0031</td>\n",
       "      <td>B02764</td>\n",
       "      <td>9</td>\n",
       "      <td>25</td>\n",
       "      <td>2014</td>\n",
       "      <td>3</td>\n",
       "      <td>0</td>\n",
       "      <td>end_of_month</td>\n",
       "      <td>17</td>\n",
       "      <td>evening</td>\n",
       "    </tr>\n",
       "  </tbody>\n",
       "</table>\n",
       "<p>41125 rows × 12 columns</p>\n",
       "</div>"
      ],
      "text/plain": [
       "                 Date/Time      Lat      Lon    Base  month  day  year  \\\n",
       "381233 2014-09-09 09:44:00  40.7722 -73.9827  B02617      9    9  2014   \n",
       "141225 2014-09-13 19:34:00  40.7297 -73.9864  B02598      9   13  2014   \n",
       "774222 2014-09-18 22:43:00  40.7482 -73.9848  B02682      9   18  2014   \n",
       "963084 2014-09-22 02:45:00  40.6551 -73.7246  B02764      9   22  2014   \n",
       "159797 2014-09-16 09:53:00  40.7579 -73.9835  B02598      9   16  2014   \n",
       "...                    ...      ...      ...     ...    ...  ...   ...   \n",
       "963395 2014-09-22 06:06:00  40.6485 -73.7829  B02764      9   22  2014   \n",
       "117952 2014-09-11 13:12:00  40.7638 -73.9713  B02598      9   11  2014   \n",
       "435829 2014-09-13 08:58:00  40.7292 -74.0026  B02617      9   13  2014   \n",
       "305711 2014-09-03 21:04:00  40.7196 -73.9980  B02617      9    3  2014   \n",
       "985772 2014-09-25 17:03:00  40.7302 -74.0031  B02764      9   25  2014   \n",
       "\n",
       "        week_of_day  isweekend           day_cat  hour      hours_cat  \n",
       "381233            1          0  stating_of_month     9        morning  \n",
       "141225            5          1      mid_of_month    19        evening  \n",
       "774222            3          0      mid_of_month    22          night  \n",
       "963084            0          0      end_of_month     2      mid_night  \n",
       "159797            1          0      mid_of_month     9        morning  \n",
       "...             ...        ...               ...   ...            ...  \n",
       "963395            0          0      end_of_month     6  early morning  \n",
       "117952            3          0      mid_of_month    13      afternoon  \n",
       "435829            5          1      mid_of_month     8        morning  \n",
       "305711            2          0  stating_of_month    21          night  \n",
       "985772            3          0      end_of_month    17        evening  \n",
       "\n",
       "[41125 rows x 12 columns]"
      ]
     },
     "execution_count": 64,
     "metadata": {},
     "output_type": "execute_result"
    }
   ],
   "source": [
    "data"
   ]
  },
  {
   "cell_type": "code",
   "execution_count": 66,
   "id": "0721ea8d",
   "metadata": {},
   "outputs": [
    {
     "name": "stderr",
     "output_type": "stream",
     "text": [
      "C:\\Users\\hp\\anaconda3\\lib\\site-packages\\seaborn\\distributions.py:2619: FutureWarning: `distplot` is a deprecated function and will be removed in a future version. Please adapt your code to use either `displot` (a figure-level function with similar flexibility) or `histplot` (an axes-level function for histograms).\n",
      "  warnings.warn(msg, FutureWarning)\n"
     ]
    },
    {
     "data": {
      "text/plain": [
       "<AxesSubplot:xlabel='day', ylabel='Density'>"
      ]
     },
     "execution_count": 66,
     "metadata": {},
     "output_type": "execute_result"
    },
    {
     "data": {
      "image/png": "[encoded data removed]",
      "text/plain": [
       "<Figure size 864x720 with 1 Axes>"
      ]
     },
     "metadata": {},
     "output_type": "display_data"
    }
   ],
   "source": [
    "sns.set(rc={'figure.figsize':(12, 10)})\n",
    "sns.distplot(data[\"day\"])"
   ]
  },
  {
   "cell_type": "markdown",
   "id": "85e39e1e",
   "metadata": {},
   "source": [
    "* With the help of month data, we made a graph and saw when Uber trips are increasing throughout the month and when it is less.\n",
    "* By looking at the daily trips we can say that the Uber trips are rising on the working days and decreases on the weekends. \n",
    "* Now let’s analyze the Uber trips according to the hours:"
   ]
  },
  {
   "cell_type": "code",
   "execution_count": 75,
   "id": "49e57cb4",
   "metadata": {},
   "outputs": [
    {
     "name": "stderr",
     "output_type": "stream",
     "text": [
      "C:\\Users\\hp\\anaconda3\\lib\\site-packages\\seaborn\\distributions.py:2619: FutureWarning: `distplot` is a deprecated function and will be removed in a future version. Please adapt your code to use either `displot` (a figure-level function with similar flexibility) or `histplot` (an axes-level function for histograms).\n",
      "  warnings.warn(msg, FutureWarning)\n"
     ]
    },
    {
     "data": {
      "text/plain": [
       "<AxesSubplot:xlabel='hour', ylabel='Density'>"
      ]
     },
     "execution_count": 75,
     "metadata": {},
     "output_type": "execute_result"
    },
    {
     "data": {
      "image/png": "[encoded data removed]",
      "text/plain": [
       "<Figure size 864x720 with 1 Axes>"
      ]
     },
     "metadata": {},
     "output_type": "display_data"
    }
   ],
   "source": [
    "sns.distplot(data[\"hour\"])"
   ]
  },
  {
   "cell_type": "markdown",
   "id": "5fa86674",
   "metadata": {},
   "source": [
    "* According to the hourly data, the Uber trips decreases after midnight and then start increasing after 5 am and the trips keep rising till 6 pm such that 6 pm is the busiest hour for Uber then the trips start decreasing.\n",
    "* Now let’s analyze the Uber trips according to the weekdays:"
   ]
  },
  {
   "cell_type": "code",
   "execution_count": 74,
   "id": "d411bf32",
   "metadata": {},
   "outputs": [
    {
     "data": {
      "text/plain": [
       "<AxesSubplot:xlabel='week_of_day', ylabel='Density'>"
      ]
     },
     "execution_count": 74,
     "metadata": {},
     "output_type": "execute_result"
    },
    {
     "data": {
      "image/png": "[encoded data removed]",
      "text/plain": [
       "<Figure size 864x720 with 1 Axes>"
      ]
     },
     "metadata": {},
     "output_type": "display_data"
    }
   ],
   "source": [
    "sns.distplot(data[\"week_of_day\"])"
   ]
  },
  {
   "cell_type": "markdown",
   "id": "1fb9f0fc",
   "metadata": {},
   "source": [
    "* In the above figure 0 indicates Sunday, on Sundays the Uber trips and more than Saturdays so we can say people \n",
    "also use Uber for outings rather than\n",
    "*for just going to work. On Saturdays, the Uber trips are the lowest and on Mondays, they are the highest.\n",
    "* Now let’s have a look at the correlation of hours and weekdays on the Uber trips:"
   ]
  },
  {
   "cell_type": "code",
   "execution_count": 70,
   "id": "e4aac270",
   "metadata": {},
   "outputs": [
    {
     "data": {
      "text/plain": [
       "<AxesSubplot:xlabel='hour', ylabel='week_of_day'>"
      ]
     },
     "execution_count": 70,
     "metadata": {},
     "output_type": "execute_result"
    },
    {
     "data": {
      "image/png": "[encoded data removed]",
      "text/plain": [
       "<Figure size 864x720 with 2 Axes>"
      ]
     },
     "metadata": {},
     "output_type": "display_data"
    }
   ],
   "source": [
    "df = data.groupby([\"week_of_day\", \"hour\"]).apply(lambda x: len(x))\n",
    "df = df.unstack()\n",
    "sns.heatmap(df, annot=False)"
   ]
  },
  {
   "cell_type": "markdown",
   "id": "e7051af2",
   "metadata": {},
   "source": [
    "* As we are having the data about longitude and latitude so we can also plot the density of Uber trips according to the regions of the New Your city:"
   ]
  },
  {
   "cell_type": "code",
   "execution_count": 72,
   "id": "5b1507fb",
   "metadata": {},
   "outputs": [
    {
     "name": "stderr",
     "output_type": "stream",
     "text": [
      "*c* argument looks like a single numeric RGB or RGBA sequence, which should be avoided as value-mapping will have precedence in case its length matches with *x* & *y*.  Please use the *color* keyword-argument or provide a 2D array with a single row if you intend to specify the same RGB or RGBA value for all points.\n"
     ]
    },
    {
     "data": {
      "image/png": "[encoded data removed]",
      "text/plain": [
       "<Figure size 864x576 with 1 Axes>"
      ]
     },
     "metadata": {},
     "output_type": "display_data"
    }
   ],
   "source": [
    "data.plot(kind='scatter', x='Lon', y='Lat', alpha=0.4, s=data['day'], label='Uber Trips',\n",
    "figsize=(12, 8), cmap=plt.get_cmap('jet'))\n",
    "plt.title(\"Uber Trips Analysis\")\n",
    "plt.legend()\n",
    "plt.show()"
   ]
  },
  {
   "cell_type": "markdown",
   "id": "f50f593e",
   "metadata": {},
   "source": [
    "## Summary"
   ]
  },
  {
   "cell_type": "markdown",
   "id": "c9f2a7e8",
   "metadata": {},
   "source": [
    "So this is how we can analyze the Uber trips for New York City. Some of the conclusions that I got from this analysis are:\n",
    "\n",
    "* Monday is the most profitable day for Uber\n",
    "* On Saturdays less number of people use Uber\n",
    "* 6 pm is the busiest day for Uber\n",
    "* On average a rise in Uber trips start around 5 am.\n",
    "* Most of the Uber trips originate near the Manhattan region in New York."
   ]
  },
  {
   "cell_type": "code",
   "execution_count": null,
   "id": "3f3fcd07",
   "metadata": {},
   "outputs": [],
   "source": []
  }
 ],
 "metadata": {
  "kernelspec": {
   "display_name": "Python 3 (ipykernel)",
   "language": "python",
   "name": "python3"
  },
  "language_info": {
   "codemirror_mode": {
    "name": "ipython",
    "version": 3
   },
   "file_extension": ".py",
   "mimetype": "text/x-python",
   "name": "python",
   "nbconvert_exporter": "python",
   "pygments_lexer": "ipython3",
   "version": "3.9.12"
  }
 },
 "nbformat": 4,
 "nbformat_minor": 5
}
